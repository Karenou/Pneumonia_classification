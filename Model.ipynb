{
 "cells": [
  {
   "cell_type": "code",
   "execution_count": 93,
   "id": "97dfd222",
   "metadata": {},
   "outputs": [],
   "source": [
    "import sklearn\n",
    "from sklearn.model_selection import GridSearchCV\n",
    "from sklearn.ensemble import RandomForestClassifier\n",
    "from sklearn.metrics import accuracy_score\n",
    "\n",
    "import pandas as pd\n",
    "import numpy as np\n",
    "import joblib\n",
    "import os"
   ]
  },
  {
   "cell_type": "code",
   "execution_count": 9,
   "id": "e472527c",
   "metadata": {},
   "outputs": [],
   "source": [
    "def read_data(train_path, test_path):\n",
    "    train = pd.read_csv(train_path)\n",
    "    x_test = pd.read_csv(test_path)\n",
    "    y_train = train[\"label\"]\n",
    "    x_train = train.drop(\"label\", axis=1)\n",
    "    return x_train, y_train, x_test"
   ]
  },
  {
   "cell_type": "code",
   "execution_count": 30,
   "id": "834208e3",
   "metadata": {},
   "outputs": [],
   "source": [
    "def print_cv_res(res):\n",
    "    for params, acc in zip(\n",
    "        res.cv_results_[\"params\"], \n",
    "        res.cv_results_[\"mean_test_score\"]\n",
    "    ):\n",
    "        print(params, \"acc: %.4f\" % acc)\n",
    "    \n",
    "    print(\"best param\")\n",
    "    print(res.best_params_)"
   ]
  },
  {
   "cell_type": "code",
   "execution_count": 115,
   "id": "acb7e75c",
   "metadata": {},
   "outputs": [],
   "source": [
    "def save_prediction(model, x_test, save_path):\n",
    "    y_test = pd.DataFrame(model.predict(x_test)).reset_index()\n",
    "    y_test.columns = [\"id\", \"label\"]\n",
    "    y_test.to_csv(save_path, index=False)"
   ]
  },
  {
   "cell_type": "code",
   "execution_count": 10,
   "id": "462954b3",
   "metadata": {},
   "outputs": [],
   "source": [
    "x_train, y_train, x_test = read_data(\"data/train.csv\", \"data/test.csv\")"
   ]
  },
  {
   "cell_type": "markdown",
   "id": "df0afab5",
   "metadata": {},
   "source": [
    "## Random forest classifier\n",
    "- with 10-fold cv\n",
    "- tune parameters\n",
    "    - n_estimators: [5, 10, 15, 20, 25, 30]\n",
    "    - max_depth: [1, 3, 5, 7, 9]\n",
    "    - max_samples: [0.1, 0.3, 0.5, 0.7]\n",
    "    - min_samples_split: [2, 5, 8, 10, 15]\n",
    "- best accuracy on val_set: 0.9097, submission accuracy: 0.96551\n",
    "- best_param:\n",
    "    - n_estimators=20, max_depth=5, max_samples=0.6, min_samples_split=5\n",
    "    - n_estimators=20, max_depth=4, max_samples=0.4, min_samples_split=5"
   ]
  },
  {
   "cell_type": "code",
   "execution_count": 87,
   "id": "fa135695",
   "metadata": {},
   "outputs": [],
   "source": [
    "param_grid = {\n",
    "#     'n_estimators': [5, 10, 15, 20, 25, 30],\n",
    "    'max_depth': [2, 4, 6, 8],\n",
    "    'min_samples_split': [2, 5, 8, 10],\n",
    "    'max_samples': [0.2, 0.4, 0.6, 0.8]\n",
    "#          'min_samples_leaf': [1, 2, 5]\n",
    "     }"
   ]
  },
  {
   "cell_type": "code",
   "execution_count": 88,
   "id": "88693c03",
   "metadata": {},
   "outputs": [],
   "source": [
    "rf = RandomForestClassifier(\n",
    "    n_estimators=20,\n",
    "    max_depth=4, \n",
    "    max_samples=0.4,\n",
    "    max_features='sqrt',\n",
    "    min_samples_split=5,\n",
    "    bootstrap=True,\n",
    "    random_state=0)"
   ]
  },
  {
   "cell_type": "code",
   "execution_count": 89,
   "id": "90b346f3",
   "metadata": {},
   "outputs": [
    {
     "name": "stdout",
     "output_type": "stream",
     "text": [
      "{'max_depth': 2, 'max_samples': 0.2, 'min_samples_split': 2} acc: 0.8500\n",
      "{'max_depth': 2, 'max_samples': 0.2, 'min_samples_split': 5} acc: 0.8500\n",
      "{'max_depth': 2, 'max_samples': 0.2, 'min_samples_split': 8} acc: 0.8486\n",
      "{'max_depth': 2, 'max_samples': 0.2, 'min_samples_split': 10} acc: 0.8139\n",
      "{'max_depth': 2, 'max_samples': 0.2, 'min_samples_split': 15} acc: 0.7681\n",
      "{'max_depth': 2, 'max_samples': 0.4, 'min_samples_split': 2} acc: 0.8972\n",
      "{'max_depth': 2, 'max_samples': 0.4, 'min_samples_split': 5} acc: 0.8972\n",
      "{'max_depth': 2, 'max_samples': 0.4, 'min_samples_split': 8} acc: 0.8972\n",
      "{'max_depth': 2, 'max_samples': 0.4, 'min_samples_split': 10} acc: 0.8972\n",
      "{'max_depth': 2, 'max_samples': 0.4, 'min_samples_split': 15} acc: 0.8972\n",
      "{'max_depth': 2, 'max_samples': 0.6, 'min_samples_split': 2} acc: 0.8722\n",
      "{'max_depth': 2, 'max_samples': 0.6, 'min_samples_split': 5} acc: 0.8722\n",
      "{'max_depth': 2, 'max_samples': 0.6, 'min_samples_split': 8} acc: 0.8722\n",
      "{'max_depth': 2, 'max_samples': 0.6, 'min_samples_split': 10} acc: 0.8722\n",
      "{'max_depth': 2, 'max_samples': 0.6, 'min_samples_split': 15} acc: 0.8722\n",
      "{'max_depth': 2, 'max_samples': 0.8, 'min_samples_split': 2} acc: 0.8486\n",
      "{'max_depth': 2, 'max_samples': 0.8, 'min_samples_split': 5} acc: 0.8486\n",
      "{'max_depth': 2, 'max_samples': 0.8, 'min_samples_split': 8} acc: 0.8375\n",
      "{'max_depth': 2, 'max_samples': 0.8, 'min_samples_split': 10} acc: 0.8375\n",
      "{'max_depth': 2, 'max_samples': 0.8, 'min_samples_split': 15} acc: 0.8611\n",
      "{'max_depth': 4, 'max_samples': 0.2, 'min_samples_split': 2} acc: 0.8264\n",
      "{'max_depth': 4, 'max_samples': 0.2, 'min_samples_split': 5} acc: 0.8500\n",
      "{'max_depth': 4, 'max_samples': 0.2, 'min_samples_split': 8} acc: 0.8486\n",
      "{'max_depth': 4, 'max_samples': 0.2, 'min_samples_split': 10} acc: 0.8139\n",
      "{'max_depth': 4, 'max_samples': 0.2, 'min_samples_split': 15} acc: 0.7681\n",
      "{'max_depth': 4, 'max_samples': 0.4, 'min_samples_split': 2} acc: 0.8861\n",
      "{'max_depth': 4, 'max_samples': 0.4, 'min_samples_split': 5} acc: 0.9097\n",
      "{'max_depth': 4, 'max_samples': 0.4, 'min_samples_split': 8} acc: 0.9097\n",
      "{'max_depth': 4, 'max_samples': 0.4, 'min_samples_split': 10} acc: 0.8972\n",
      "{'max_depth': 4, 'max_samples': 0.4, 'min_samples_split': 15} acc: 0.8972\n",
      "{'max_depth': 4, 'max_samples': 0.6, 'min_samples_split': 2} acc: 0.8847\n",
      "{'max_depth': 4, 'max_samples': 0.6, 'min_samples_split': 5} acc: 0.8847\n",
      "{'max_depth': 4, 'max_samples': 0.6, 'min_samples_split': 8} acc: 0.8611\n",
      "{'max_depth': 4, 'max_samples': 0.6, 'min_samples_split': 10} acc: 0.8611\n",
      "{'max_depth': 4, 'max_samples': 0.6, 'min_samples_split': 15} acc: 0.8722\n",
      "{'max_depth': 4, 'max_samples': 0.8, 'min_samples_split': 2} acc: 0.8486\n",
      "{'max_depth': 4, 'max_samples': 0.8, 'min_samples_split': 5} acc: 0.8375\n",
      "{'max_depth': 4, 'max_samples': 0.8, 'min_samples_split': 8} acc: 0.8611\n",
      "{'max_depth': 4, 'max_samples': 0.8, 'min_samples_split': 10} acc: 0.8611\n",
      "{'max_depth': 4, 'max_samples': 0.8, 'min_samples_split': 15} acc: 0.8611\n",
      "{'max_depth': 6, 'max_samples': 0.2, 'min_samples_split': 2} acc: 0.8264\n",
      "{'max_depth': 6, 'max_samples': 0.2, 'min_samples_split': 5} acc: 0.8500\n",
      "{'max_depth': 6, 'max_samples': 0.2, 'min_samples_split': 8} acc: 0.8486\n",
      "{'max_depth': 6, 'max_samples': 0.2, 'min_samples_split': 10} acc: 0.8139\n",
      "{'max_depth': 6, 'max_samples': 0.2, 'min_samples_split': 15} acc: 0.7681\n",
      "{'max_depth': 6, 'max_samples': 0.4, 'min_samples_split': 2} acc: 0.8986\n",
      "{'max_depth': 6, 'max_samples': 0.4, 'min_samples_split': 5} acc: 0.9097\n",
      "{'max_depth': 6, 'max_samples': 0.4, 'min_samples_split': 8} acc: 0.9097\n",
      "{'max_depth': 6, 'max_samples': 0.4, 'min_samples_split': 10} acc: 0.8972\n",
      "{'max_depth': 6, 'max_samples': 0.4, 'min_samples_split': 15} acc: 0.8972\n",
      "{'max_depth': 6, 'max_samples': 0.6, 'min_samples_split': 2} acc: 0.8847\n",
      "{'max_depth': 6, 'max_samples': 0.6, 'min_samples_split': 5} acc: 0.8736\n",
      "{'max_depth': 6, 'max_samples': 0.6, 'min_samples_split': 8} acc: 0.8611\n",
      "{'max_depth': 6, 'max_samples': 0.6, 'min_samples_split': 10} acc: 0.8611\n",
      "{'max_depth': 6, 'max_samples': 0.6, 'min_samples_split': 15} acc: 0.8722\n",
      "{'max_depth': 6, 'max_samples': 0.8, 'min_samples_split': 2} acc: 0.8500\n",
      "{'max_depth': 6, 'max_samples': 0.8, 'min_samples_split': 5} acc: 0.8736\n",
      "{'max_depth': 6, 'max_samples': 0.8, 'min_samples_split': 8} acc: 0.8611\n",
      "{'max_depth': 6, 'max_samples': 0.8, 'min_samples_split': 10} acc: 0.8736\n",
      "{'max_depth': 6, 'max_samples': 0.8, 'min_samples_split': 15} acc: 0.8722\n",
      "{'max_depth': 8, 'max_samples': 0.2, 'min_samples_split': 2} acc: 0.8264\n",
      "{'max_depth': 8, 'max_samples': 0.2, 'min_samples_split': 5} acc: 0.8500\n",
      "{'max_depth': 8, 'max_samples': 0.2, 'min_samples_split': 8} acc: 0.8486\n",
      "{'max_depth': 8, 'max_samples': 0.2, 'min_samples_split': 10} acc: 0.8139\n",
      "{'max_depth': 8, 'max_samples': 0.2, 'min_samples_split': 15} acc: 0.7681\n",
      "{'max_depth': 8, 'max_samples': 0.4, 'min_samples_split': 2} acc: 0.8986\n",
      "{'max_depth': 8, 'max_samples': 0.4, 'min_samples_split': 5} acc: 0.9097\n",
      "{'max_depth': 8, 'max_samples': 0.4, 'min_samples_split': 8} acc: 0.9097\n",
      "{'max_depth': 8, 'max_samples': 0.4, 'min_samples_split': 10} acc: 0.8972\n",
      "{'max_depth': 8, 'max_samples': 0.4, 'min_samples_split': 15} acc: 0.8972\n",
      "{'max_depth': 8, 'max_samples': 0.6, 'min_samples_split': 2} acc: 0.8736\n",
      "{'max_depth': 8, 'max_samples': 0.6, 'min_samples_split': 5} acc: 0.8736\n",
      "{'max_depth': 8, 'max_samples': 0.6, 'min_samples_split': 8} acc: 0.8611\n",
      "{'max_depth': 8, 'max_samples': 0.6, 'min_samples_split': 10} acc: 0.8611\n",
      "{'max_depth': 8, 'max_samples': 0.6, 'min_samples_split': 15} acc: 0.8722\n",
      "{'max_depth': 8, 'max_samples': 0.8, 'min_samples_split': 2} acc: 0.8736\n",
      "{'max_depth': 8, 'max_samples': 0.8, 'min_samples_split': 5} acc: 0.8736\n",
      "{'max_depth': 8, 'max_samples': 0.8, 'min_samples_split': 8} acc: 0.8611\n",
      "{'max_depth': 8, 'max_samples': 0.8, 'min_samples_split': 10} acc: 0.8736\n",
      "{'max_depth': 8, 'max_samples': 0.8, 'min_samples_split': 15} acc: 0.8722\n",
      "best param\n",
      "{'max_depth': 4, 'max_samples': 0.4, 'min_samples_split': 5}\n"
     ]
    }
   ],
   "source": [
    "grid_clf = GridSearchCV(rf, param_grid, cv=10, scoring='accuracy')\n",
    "grid_clf.fit(x_train, y_train)\n",
    "print_cv_res(grid_clf)"
   ]
  },
  {
   "cell_type": "code",
   "execution_count": 90,
   "id": "60ee7e49",
   "metadata": {},
   "outputs": [],
   "source": [
    "best_model = grid_clf. best_estimator_\n",
    "\n",
    "if not os.path.exists(\"model\"):\n",
    "    os.mkdir(\"model\")\n",
    "\n",
    "joblib.dump(best_model, \"model/random_forest.joblib\")\n",
    "\n",
    "save_prediction(best_model, x_test, \"data/rf_submission.csv\")"
   ]
  },
  {
   "cell_type": "markdown",
   "id": "9f9f2c19",
   "metadata": {},
   "source": [
    "## Logistic regression\n",
    "- best param: C = 0.2, best val_set acc: 0.9306, submission acc: 0.93103 (baseline)"
   ]
  },
  {
   "cell_type": "code",
   "execution_count": 95,
   "id": "44be4bb8",
   "metadata": {},
   "outputs": [],
   "source": [
    "from sklearn.linear_model import LogisticRegression"
   ]
  },
  {
   "cell_type": "code",
   "execution_count": 112,
   "id": "0638ecd0",
   "metadata": {},
   "outputs": [],
   "source": [
    "param_grid = {\n",
    "    'C': [0.1, 0.15, 0.2, 0.25, 0.3],\n",
    "     }"
   ]
  },
  {
   "cell_type": "code",
   "execution_count": 113,
   "id": "a27914c9",
   "metadata": {},
   "outputs": [
    {
     "name": "stdout",
     "output_type": "stream",
     "text": [
      "{'C': 0.08} acc: 0.9306\n",
      "{'C': 0.1} acc: 0.9306\n",
      "{'C': 0.15} acc: 0.9194\n",
      "{'C': 0.2} acc: 0.9319\n",
      "{'C': 0.25} acc: 0.9208\n",
      "{'C': 0.3} acc: 0.9083\n",
      "best param\n",
      "{'C': 0.2}\n"
     ]
    }
   ],
   "source": [
    "lr = LogisticRegression(\n",
    "    penalty='l2',\n",
    "    tol=1e-4,\n",
    "    random_state=0)\n",
    "\n",
    "grid_clf = GridSearchCV(lr, param_grid, cv=10, scoring='accuracy')\n",
    "grid_clf.fit(x_train, y_train)\n",
    "print_cv_res(grid_clf)"
   ]
  },
  {
   "cell_type": "code",
   "execution_count": 114,
   "id": "c95f02ee",
   "metadata": {},
   "outputs": [],
   "source": [
    "best_model = grid_clf. best_estimator_\n",
    "joblib.dump(best_model, \"model/logistic_regression.joblib\")\n",
    "\n",
    "save_prediction(best_model, x_test, \"data/lr.csv\")\n"
   ]
  },
  {
   "cell_type": "code",
   "execution_count": null,
   "id": "ef5a8b54",
   "metadata": {},
   "outputs": [],
   "source": []
  }
 ],
 "metadata": {
  "kernelspec": {
   "display_name": "Tensorflow 2.6.0",
   "language": "python",
   "name": "data_mining"
  },
  "language_info": {
   "codemirror_mode": {
    "name": "ipython",
    "version": 3
   },
   "file_extension": ".py",
   "mimetype": "text/x-python",
   "name": "python",
   "nbconvert_exporter": "python",
   "pygments_lexer": "ipython3",
   "version": "3.6.13"
  }
 },
 "nbformat": 4,
 "nbformat_minor": 5
}
